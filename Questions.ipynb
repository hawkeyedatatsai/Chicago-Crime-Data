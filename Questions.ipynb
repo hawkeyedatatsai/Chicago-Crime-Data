{
 "cells": [
  {
   "cell_type": "markdown",
   "id": "ee98fa5e",
   "metadata": {},
   "source": [
    "# Which district has the most crimes? Which has the least?"
   ]
  },
  {
   "cell_type": "markdown",
   "id": "0794f458",
   "metadata": {},
   "source": [
    "# Are there any individual crimes that are doing the opposite (e.g decreasing when overall crime is increasing or vice-versa)?"
   ]
  },
  {
   "cell_type": "markdown",
   "id": "60e56c1b",
   "metadata": {},
   "source": [
    "# What months have the most crime? What months have the least?"
   ]
  }
 ],
 "metadata": {
  "kernelspec": {
   "display_name": "Python (dojo-env)",
   "language": "python",
   "name": "dojo-env"
  },
  "language_info": {
   "codemirror_mode": {
    "name": "ipython",
    "version": 3
   },
   "file_extension": ".py",
   "mimetype": "text/x-python",
   "name": "python",
   "nbconvert_exporter": "python",
   "pygments_lexer": "ipython3",
   "version": "3.9.15"
  },
  "toc": {
   "base_numbering": 1,
   "nav_menu": {},
   "number_sections": false,
   "sideBar": true,
   "skip_h1_title": false,
   "title_cell": "Table of Contents",
   "title_sidebar": "Contents",
   "toc_cell": false,
   "toc_position": {},
   "toc_section_display": true,
   "toc_window_display": false
  }
 },
 "nbformat": 4,
 "nbformat_minor": 5
}
